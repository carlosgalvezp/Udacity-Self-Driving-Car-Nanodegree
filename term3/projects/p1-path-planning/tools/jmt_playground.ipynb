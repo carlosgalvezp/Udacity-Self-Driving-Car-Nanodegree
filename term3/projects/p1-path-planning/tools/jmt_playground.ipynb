{
 "cells": [
  {
   "cell_type": "code",
   "execution_count": 1,
   "metadata": {},
   "outputs": [
    {
     "name": "stderr",
     "output_type": "stream",
     "text": [
      "/home/cgalvezd/anaconda3/lib/python3.6/site-packages/matplotlib/font_manager.py:280: UserWarning: Matplotlib is building the font cache using fc-list. This may take a moment.\n",
      "  'Matplotlib is building the font cache using fc-list. '\n"
     ]
    }
   ],
   "source": [
    "import numpy as np\n",
    "import matplotlib.pyplot as plt"
   ]
  },
  {
   "cell_type": "markdown",
   "metadata": {},
   "source": [
    "# Jerk-minimizing Trajectory Generator"
   ]
  },
  {
   "cell_type": "code",
   "execution_count": 2,
   "metadata": {},
   "outputs": [],
   "source": [
    "def generateJMT(x0, x0_d, x0_dd, xf, xf_d, xf_dd, t):\n",
    "    t2 =  t*t\n",
    "    t3 = t2*t\n",
    "    t4 = t3*t\n",
    "    t5 = t4*t\n",
    "    \n",
    "    A = np.array([[    t3,     t4,      t5],\n",
    "                  [3.0*t2, 4.0*t3,  5.0*t4,],\n",
    "                  [6.0*t, 12.0*t2, 20.0*t3]])\n",
    "    b = np.array([[xf - (x0 + x0_d*t + 0.5*x0_dd*t2)],\n",
    "                  [xf_d - (x0_d + x0_dd*t)],\n",
    "                  [xf_dd - (x0_dd)]])\n",
    "                  \n",
    "    a3a4a5 = np.linalg.solve(A, b)\n",
    "                  \n",
    "    coeffs = [x0, x0_d, 0.5*x0_dd, a3a4a5[0], a3a4a5[1], a3a4a5[2]]\n",
    "    \n",
    "    return coeffs"
   ]
  },
  {
   "cell_type": "code",
   "execution_count": 3,
   "metadata": {
    "collapsed": true
   },
   "outputs": [],
   "source": [
    "def evaluate_polynomial(coeffs, x):\n",
    "    output = 0.0\n",
    "    \n",
    "    for i in range(len(coeffs)):\n",
    "        output += coeffs[i] * (x**i)\n",
    "    return output"
   ]
  },
  {
   "cell_type": "code",
   "execution_count": 4,
   "metadata": {
    "collapsed": true
   },
   "outputs": [],
   "source": [
    "def differentiate_polynomial(coeffs):\n",
    "    output = []\n",
    "    \n",
    "    for i in range(1, len(coeffs)):\n",
    "        output.append(coeffs[i] * i)\n",
    "        \n",
    "    return output"
   ]
  },
  {
   "cell_type": "code",
   "execution_count": 5,
   "metadata": {
    "collapsed": true
   },
   "outputs": [],
   "source": [
    "def visualize_polynomial(coeffs, t, N):\n",
    "    x = np.linspace(0, t, N)\n",
    "    y = [evaluate_polynomial(coeffs, x_i) for x_i in x]\n",
    "    \n",
    "    plt.plot(x, y)"
   ]
  },
  {
   "cell_type": "markdown",
   "metadata": {},
   "source": [
    "### Example"
   ]
  },
  {
   "cell_type": "code",
   "execution_count": 9,
   "metadata": {},
   "outputs": [
    {
     "data": {
      "image/png": "[encoded data removed]",
      "text/plain": [
       "<matplotlib.figure.Figure at 0x7fb8bce5c550>"
      ]
     },
     "metadata": {},
     "output_type": "display_data"
    }
   ],
   "source": [
    "x0 = 0.0\n",
    "x0_d = 0.0\n",
    "x0_dd = 0.0\n",
    "\n",
    "xf = 10.0\n",
    "xf_d = 10.0\n",
    "xf_dd = 0.0\n",
    "\n",
    "t = 5\n",
    "\n",
    "coeffs_position = generateJMT(x0, x0_d, x0_dd, xf, xf_d, xf_dd, t)\n",
    "coeffs_velocity = differentiate_polynomial(coeffs_position)\n",
    "coeffs_acc = differentiate_polynomial(coeffs_velocity)\n",
    "coeffs_jerk = differentiate_polynomial(coeffs_acc)\n",
    "\n",
    "plt.figure()\n",
    "\n",
    "visualize_polynomial(coeffs_position, t, 100)\n",
    "visualize_polynomial(coeffs_velocity, t, 100)\n",
    "visualize_polynomial(coeffs_acc, t, 100)\n",
    "visualize_polynomial(coeffs_jerk, t, 100)\n",
    "\n",
    "plt.legend(['position', 'velocity', 'acceleration', 'jerk'])\n",
    "plt.show()"
   ]
  },
  {
   "cell_type": "code",
   "execution_count": null,
   "metadata": {
    "collapsed": true
   },
   "outputs": [],
   "source": []
  }
 ],
 "metadata": {
  "anaconda-cloud": {},
  "kernelspec": {
   "display_name": "Python 3",
   "language": "python",
   "name": "python3"
  },
  "language_info": {
   "codemirror_mode": {
    "name": "ipython",
    "version": 3
   },
   "file_extension": ".py",
   "mimetype": "text/x-python",
   "name": "python",
   "nbconvert_exporter": "python",
   "pygments_lexer": "ipython3",
   "version": "3.6.1"
  }
 },
 "nbformat": 4,
 "nbformat_minor": 1
}
